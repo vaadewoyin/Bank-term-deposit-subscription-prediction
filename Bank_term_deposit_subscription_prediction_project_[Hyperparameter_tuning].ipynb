{
  "cells": [
    {
      "cell_type": "code",
      "execution_count": 1,
      "metadata": {
        "id": "DbtXrMkyQl-X"
      },
      "outputs": [],
      "source": [
        "#necessary imports\n",
        "import optuna\n",
        "from optuna.samplers import TPESampler\n",
        "from joblib import dump, load\n",
        "from lightgbm import LGBMClassifier\n",
        "from imblearn.under_sampling import RandomUnderSampler\n",
        "from imblearn.pipeline import make_pipeline as imblearn_make_pipeline\n",
        "from sklearn.model_selection import cross_validate\n",
        "from sklearn.metrics import make_scorer,precision_score,recall_score\n"
      ]
    },
    {
      "cell_type": "code",
      "source": [
        "#resampling method\n",
        "rs=44\n",
        "rus=RandomUnderSampler(random_state=rs)\n"
      ],
      "metadata": {
        "id": "etLnI9qzq7vr"
      },
      "execution_count": 2,
      "outputs": []
    },
    {
      "cell_type": "code",
      "execution_count": 3,
      "metadata": {
        "id": "rUL8scr1T84j"
      },
      "outputs": [],
      "source": [
        "#load saved pickled train set and columntransformer object for hyperparameter tunning\n",
        "X_train=load('/content/drive/MyDrive/Datascience projects/Bank_term_deposit_subscription_prediction_project/X_train')\n",
        "y_train=load('/content/drive/MyDrive/Datascience projects/Bank_term_deposit_subscription_prediction_project/y_train')\n",
        "preprocessor=load('/content/drive/MyDrive/Datascience projects/Bank_term_deposit_subscription_prediction_project/preprocessor')\n"
      ]
    },
    {
      "cell_type": "code",
      "source": [
        "#make function to compute recall score\n",
        "second_class_recall_function = {'2nd_class_recall_score': make_scorer(recall_score,average='binary',pos_label=1)}"
      ],
      "metadata": {
        "id": "38zd4_M4yFMR"
      },
      "execution_count": 4,
      "outputs": []
    },
    {
      "cell_type": "code",
      "execution_count": 5,
      "metadata": {
        "id": "kssLObWzWzw2",
        "colab": {
          "base_uri": "https://localhost:8080/"
        },
        "outputId": "3f546914-a570-4f90-ebe0-95410c046b6d"
      },
      "outputs": [
        {
          "output_type": "stream",
          "name": "stderr",
          "text": [
            "\u001b[32m[I 2023-05-25 19:01:22,534]\u001b[0m A new study created in memory with name: no-name-c2757946-c087-40df-8a70-1e1fe66e7450\u001b[0m\n",
            "\u001b[32m[I 2023-05-25 19:01:23,968]\u001b[0m Trial 0 finished with value: 0.7132819160321128 and parameters: {'n_estimators': 403, 'max_depth': 1, 'learning_rate': 0.6373117525770127, 'subsample': 0.7739234942847507, 'colsample_bytree': 0.5486563110723314, 'reg_alpha': 2.2479664553084766, 'reg_lambda': 1.9806286475962398}. Best is trial 0 with value: 0.7132819160321128.\u001b[0m\n",
            "\u001b[32m[I 2023-05-25 19:01:26,056]\u001b[0m Trial 1 finished with value: 0.7343032725927162 and parameters: {'n_estimators': 398, 'max_depth': 4, 'learning_rate': 0.09745641603227016, 'subsample': 0.7168238365310176, 'colsample_bytree': 0.9580540115754429, 'reg_alpha': 0.039482663279144514, 'reg_lambda': 5.121922633857766}. Best is trial 1 with value: 0.7343032725927162.\u001b[0m\n",
            "\u001b[32m[I 2023-05-25 19:01:27,053]\u001b[0m Trial 2 finished with value: 0.7224430715428456 and parameters: {'n_estimators': 421, 'max_depth': 13, 'learning_rate': 0.7245377642574815, 'subsample': 0.3626884613535699, 'colsample_bytree': 0.9259967102616491, 'reg_alpha': 7.145757833976906, 'reg_lambda': 5.425443680112613}. Best is trial 1 with value: 0.7343032725927162.\u001b[0m\n",
            "\u001b[32m[I 2023-05-25 19:01:28,065]\u001b[0m Trial 3 finished with value: 0.7159758827221181 and parameters: {'n_estimators': 135, 'max_depth': 8, 'learning_rate': 0.6773922789156819, 'subsample': 0.4976498569806965, 'colsample_bytree': 0.4906125939999644, 'reg_alpha': 6.177669784693172, 'reg_lambda': 5.131382425543909}. Best is trial 1 with value: 0.7343032725927162.\u001b[0m\n",
            "\u001b[32m[I 2023-05-25 19:01:31,744]\u001b[0m Trial 4 finished with value: 0.7334964611304793 and parameters: {'n_estimators': 352, 'max_depth': 13, 'learning_rate': 0.807170964864419, 'subsample': 0.5694824371542707, 'colsample_bytree': 0.9177839927278014, 'reg_alpha': 3.1923608898854527, 'reg_lambda': 0.9045934927090737}. Best is trial 1 with value: 0.7343032725927162.\u001b[0m\n",
            "\u001b[32m[I 2023-05-25 19:01:33,241]\u001b[0m Trial 5 finished with value: 0.7227147899714497 and parameters: {'n_estimators': 203, 'max_depth': 3, 'learning_rate': 0.8303945130445999, 'subsample': 0.1422066874503248, 'colsample_bytree': 0.6636584334802533, 'reg_alpha': 5.475861559192436, 'reg_lambda': 8.192869956700687}. Best is trial 1 with value: 0.7343032725927162.\u001b[0m\n",
            "\u001b[32m[I 2023-05-25 19:01:35,031]\u001b[0m Trial 6 finished with value: 0.7116643025833203 and parameters: {'n_estimators': 159, 'max_depth': 18, 'learning_rate': 0.35813611303776705, 'subsample': 0.7791829223768715, 'colsample_bytree': 0.36636553619171086, 'reg_alpha': 8.839364795611862, 'reg_lambda': 3.255116378322488}. Best is trial 1 with value: 0.7343032725927162.\u001b[0m\n",
            "\u001b[32m[I 2023-05-25 19:01:36,217]\u001b[0m Trial 7 finished with value: 0.7113947608043445 and parameters: {'n_estimators': 145, 'max_depth': 8, 'learning_rate': 0.1025257708130638, 'subsample': 0.8389950920532356, 'colsample_bytree': 0.23603681767830748, 'reg_alpha': 3.841144486921996, 'reg_lambda': 9.442607122388011}. Best is trial 1 with value: 0.7343032725927162.\u001b[0m\n",
            "\u001b[32m[I 2023-05-25 19:01:37,269]\u001b[0m Trial 8 finished with value: 0.7124711140455572 and parameters: {'n_estimators': 495, 'max_depth': 10, 'learning_rate': 0.8278616154043125, 'subsample': 0.3262367207863534, 'colsample_bytree': 0.6376344834077958, 'reg_alpha': 9.028317603316275, 'reg_lambda': 5.345579488018151}. Best is trial 1 with value: 0.7343032725927162.\u001b[0m\n",
            "\u001b[32m[I 2023-05-25 19:01:38,613]\u001b[0m Trial 9 finished with value: 0.7103169564633797 and parameters: {'n_estimators': 326, 'max_depth': 1, 'learning_rate': 0.36360994104819094, 'subsample': 0.17165178114036778, 'colsample_bytree': 0.3749139265085365, 'reg_alpha': 3.30719311982132, 'reg_lambda': 7.7383029621059585}. Best is trial 1 with value: 0.7343032725927162.\u001b[0m\n",
            "\u001b[32m[I 2023-05-25 19:01:40,471]\u001b[0m Trial 10 finished with value: 0.7116639398083823 and parameters: {'n_estimators': 264, 'max_depth': 5, 'learning_rate': 0.01885868318191633, 'subsample': 0.8787100943257184, 'colsample_bytree': 0.8077227745305672, 'reg_alpha': 0.055133324087387595, 'reg_lambda': 0.22099978228644535}. Best is trial 1 with value: 0.7343032725927162.\u001b[0m\n",
            "\u001b[32m[I 2023-05-25 19:01:44,148]\u001b[0m Trial 11 finished with value: 0.6933474331859258 and parameters: {'n_estimators': 351, 'max_depth': 14, 'learning_rate': 0.9682057377959115, 'subsample': 0.6367597533025031, 'colsample_bytree': 0.9782126539218664, 'reg_alpha': 0.30955167376945214, 'reg_lambda': 3.180127649555713}. Best is trial 1 with value: 0.7343032725927162.\u001b[0m\n",
            "\u001b[32m[I 2023-05-25 19:01:45,535]\u001b[0m Trial 12 finished with value: 0.7321487522356006 and parameters: {'n_estimators': 449, 'max_depth': 18, 'learning_rate': 0.49265545963552404, 'subsample': 0.6162958937486525, 'colsample_bytree': 0.8236580249966013, 'reg_alpha': 1.6899519846713384, 'reg_lambda': 0.2916053880891054}. Best is trial 1 with value: 0.7343032725927162.\u001b[0m\n",
            "\u001b[32m[I 2023-05-25 19:01:46,882]\u001b[0m Trial 13 finished with value: 0.7324179312396383 and parameters: {'n_estimators': 270, 'max_depth': 14, 'learning_rate': 0.1945551312085058, 'subsample': 0.9622461336375652, 'colsample_bytree': 0.996850091783471, 'reg_alpha': 1.7881350602037531, 'reg_lambda': 3.6220504961149893}. Best is trial 1 with value: 0.7343032725927162.\u001b[0m\n",
            "\u001b[32m[I 2023-05-25 19:01:48,022]\u001b[0m Trial 14 finished with value: 0.7235226897585008 and parameters: {'n_estimators': 365, 'max_depth': 7, 'learning_rate': 0.22667979231355145, 'subsample': 0.6423196577644765, 'colsample_bytree': 0.8135216878631853, 'reg_alpha': 4.0259688890771, 'reg_lambda': 6.499771732129091}. Best is trial 1 with value: 0.7343032725927162.\u001b[0m\n",
            "\u001b[32m[I 2023-05-25 19:01:49,326]\u001b[0m Trial 15 finished with value: 0.7324208334391427 and parameters: {'n_estimators': 306, 'max_depth': 11, 'learning_rate': 0.4991829534232801, 'subsample': 0.5134210256978298, 'colsample_bytree': 0.9004218098160517, 'reg_alpha': 1.1110175995042981, 'reg_lambda': 1.4469858109368952}. Best is trial 1 with value: 0.7343032725927162.\u001b[0m\n",
            "\u001b[32m[I 2023-05-25 19:01:50,485]\u001b[0m Trial 16 finished with value: 0.7256801123151208 and parameters: {'n_estimators': 483, 'max_depth': 16, 'learning_rate': 0.5599954801418047, 'subsample': 0.7115263224967038, 'colsample_bytree': 0.7315420814192519, 'reg_alpha': 2.788711342247102, 'reg_lambda': 3.9885543880550607}. Best is trial 1 with value: 0.7343032725927162.\u001b[0m\n",
            "\u001b[32m[I 2023-05-25 19:01:52,902]\u001b[0m Trial 17 finished with value: 0.7221735297638698 and parameters: {'n_estimators': 383, 'max_depth': 5, 'learning_rate': 0.022326699644974246, 'subsample': 0.5572057548434978, 'colsample_bytree': 0.8803374589052819, 'reg_alpha': 1.0833678880264008, 'reg_lambda': 2.148272837319627}. Best is trial 1 with value: 0.7343032725927162.\u001b[0m\n",
            "\u001b[32m[I 2023-05-25 19:01:53,806]\u001b[0m Trial 18 finished with value: 0.7237940454121667 and parameters: {'n_estimators': 208, 'max_depth': 10, 'learning_rate': 0.3825517932289621, 'subsample': 0.9871924056159312, 'colsample_bytree': 0.7412008738798253, 'reg_alpha': 4.350002094273048, 'reg_lambda': 4.196031113388393}. Best is trial 1 with value: 0.7343032725927162.\u001b[0m\n",
            "\u001b[32m[I 2023-05-25 19:01:55,090]\u001b[0m Trial 19 finished with value: 0.7380764947234385 and parameters: {'n_estimators': 440, 'max_depth': 12, 'learning_rate': 0.9714279673837192, 'subsample': 0.7149592377479758, 'colsample_bytree': 0.9993120689432334, 'reg_alpha': 2.797894380442691, 'reg_lambda': 5.9458299312517635}. Best is trial 19 with value: 0.7380764947234385.\u001b[0m\n",
            "\u001b[32m[I 2023-05-25 19:01:56,866]\u001b[0m Trial 20 finished with value: 0.7372682321614494 and parameters: {'n_estimators': 445, 'max_depth': 20, 'learning_rate': 0.9781246421722919, 'subsample': 0.7174348157406343, 'colsample_bytree': 0.9848997193740548, 'reg_alpha': 2.5415334583337543, 'reg_lambda': 6.4674203569650945}. Best is trial 19 with value: 0.7380764947234385.\u001b[0m\n",
            "\u001b[32m[I 2023-05-25 19:01:58,327]\u001b[0m Trial 21 finished with value: 0.7380779458231908 and parameters: {'n_estimators': 451, 'max_depth': 16, 'learning_rate': 0.9791367462108669, 'subsample': 0.71584563237766, 'colsample_bytree': 0.9715571970153483, 'reg_alpha': 2.3239508310375285, 'reg_lambda': 6.3288992934046}. Best is trial 21 with value: 0.7380779458231908.\u001b[0m\n",
            "\u001b[32m[I 2023-05-25 19:01:59,511]\u001b[0m Trial 22 finished with value: 0.7380764947234386 and parameters: {'n_estimators': 452, 'max_depth': 19, 'learning_rate': 0.9779376694870099, 'subsample': 0.7095449282409152, 'colsample_bytree': 0.9917213515233918, 'reg_alpha': 2.5574764085486654, 'reg_lambda': 6.412639430796479}. Best is trial 21 with value: 0.7380779458231908.\u001b[0m\n",
            "\u001b[32m[I 2023-05-25 19:02:00,634]\u001b[0m Trial 23 finished with value: 0.7356531581372232 and parameters: {'n_estimators': 452, 'max_depth': 17, 'learning_rate': 0.9966225927107508, 'subsample': 0.8760411848914118, 'colsample_bytree': 0.8709721018324804, 'reg_alpha': 3.1980423408658076, 'reg_lambda': 6.4737012260570115}. Best is trial 21 with value: 0.7380779458231908.\u001b[0m\n",
            "\u001b[32m[I 2023-05-25 19:02:01,702]\u001b[0m Trial 24 finished with value: 0.7248685847786891 and parameters: {'n_estimators': 483, 'max_depth': 20, 'learning_rate': 0.9066804954557872, 'subsample': 0.796851718745102, 'colsample_bytree': 0.9914555644413325, 'reg_alpha': 4.70316331915583, 'reg_lambda': 7.21572508180555}. Best is trial 21 with value: 0.7380779458231908.\u001b[0m\n",
            "\u001b[32m[I 2023-05-25 19:02:02,902]\u001b[0m Trial 25 finished with value: 0.7413091821964571 and parameters: {'n_estimators': 421, 'max_depth': 16, 'learning_rate': 0.9103669836149376, 'subsample': 0.6919498571754856, 'colsample_bytree': 0.8737560492190305, 'reg_alpha': 1.9589492800297248, 'reg_lambda': 6.012285238177178}. Best is trial 25 with value: 0.7413091821964571.\u001b[0m\n",
            "\u001b[32m[I 2023-05-25 19:02:03,828]\u001b[0m Trial 26 finished with value: 0.7351111723797673 and parameters: {'n_estimators': 97, 'max_depth': 16, 'learning_rate': 0.8965990957507967, 'subsample': 0.9122205953348816, 'colsample_bytree': 0.875110852094983, 'reg_alpha': 1.891398103817027, 'reg_lambda': 7.11369016585523}. Best is trial 25 with value: 0.7413091821964571.\u001b[0m\n",
            "\u001b[32m[I 2023-05-25 19:02:05,343]\u001b[0m Trial 27 finished with value: 0.7219087040590888 and parameters: {'n_estimators': 500, 'max_depth': 19, 'learning_rate': 0.8996115347530774, 'subsample': 0.6543174570929834, 'colsample_bytree': 0.7836620052945822, 'reg_alpha': 1.1631600425119364, 'reg_lambda': 4.476359045867961}. Best is trial 25 with value: 0.7413091821964571.\u001b[0m\n",
            "\u001b[32m[I 2023-05-25 19:02:06,374]\u001b[0m Trial 28 finished with value: 0.7299902413541662 and parameters: {'n_estimators': 420, 'max_depth': 15, 'learning_rate': 0.7464703645373203, 'subsample': 0.7937296417257509, 'colsample_bytree': 0.9173138329186136, 'reg_alpha': 3.4823924783039, 'reg_lambda': 5.902761391633191}. Best is trial 25 with value: 0.7413091821964571.\u001b[0m\n",
            "\u001b[32m[I 2023-05-25 19:02:07,475]\u001b[0m Trial 29 finished with value: 0.7340377213380591 and parameters: {'n_estimators': 392, 'max_depth': 17, 'learning_rate': 0.9023873652435357, 'subsample': 0.8193195772389963, 'colsample_bytree': 0.8414066579314282, 'reg_alpha': 2.6340010397010154, 'reg_lambda': 4.673315996937052}. Best is trial 25 with value: 0.7413091821964571.\u001b[0m\n",
            "\u001b[32m[I 2023-05-25 19:02:09,199]\u001b[0m Trial 30 finished with value: 0.7348409050509155 and parameters: {'n_estimators': 468, 'max_depth': 19, 'learning_rate': 0.7690316797149366, 'subsample': 0.7462335890220123, 'colsample_bytree': 0.9208213423830784, 'reg_alpha': 2.054995514508665, 'reg_lambda': 8.494785676420516}. Best is trial 25 with value: 0.7413091821964571.\u001b[0m\n",
            "\u001b[32m[I 2023-05-25 19:02:10,809]\u001b[0m Trial 31 finished with value: 0.7321498405604147 and parameters: {'n_estimators': 414, 'max_depth': 12, 'learning_rate': 0.9996343083402811, 'subsample': 0.7093909779500674, 'colsample_bytree': 0.9991079527018322, 'reg_alpha': 2.614033298711897, 'reg_lambda': 5.993034055324222}. Best is trial 25 with value: 0.7413091821964571.\u001b[0m\n",
            "\u001b[32m[I 2023-05-25 19:02:11,866]\u001b[0m Trial 32 finished with value: 0.7291834298919293 and parameters: {'n_estimators': 438, 'max_depth': 15, 'learning_rate': 0.9373201135951297, 'subsample': 0.6750911606484179, 'colsample_bytree': 0.9301282554188216, 'reg_alpha': 3.8253677846624776, 'reg_lambda': 5.811421762829568}. Best is trial 25 with value: 0.7413091821964571.\u001b[0m\n",
            "\u001b[32m[I 2023-05-25 19:02:12,968]\u001b[0m Trial 33 finished with value: 0.7332251054768133 and parameters: {'n_estimators': 395, 'max_depth': 17, 'learning_rate': 0.8644956276626116, 'subsample': 0.7561451910418653, 'colsample_bytree': 0.9393323932486723, 'reg_alpha': 2.606743954151378, 'reg_lambda': 4.970435227982055}. Best is trial 25 with value: 0.7413091821964571.\u001b[0m\n",
            "\u001b[32m[I 2023-05-25 19:02:14,176]\u001b[0m Trial 34 finished with value: 0.732687835793552 and parameters: {'n_estimators': 465, 'max_depth': 12, 'learning_rate': 0.9411798690280788, 'subsample': 0.5997346983355577, 'colsample_bytree': 0.8534535467071456, 'reg_alpha': 2.210678941537042, 'reg_lambda': 7.019982913291832}. Best is trial 25 with value: 0.7413091821964571.\u001b[0m\n",
            "\u001b[32m[I 2023-05-25 19:02:15,275]\u001b[0m Trial 35 finished with value: 0.7291841554418055 and parameters: {'n_estimators': 418, 'max_depth': 15, 'learning_rate': 0.7956163865437689, 'subsample': 0.7036683295569612, 'colsample_bytree': 0.9476143669724413, 'reg_alpha': 3.062964079506525, 'reg_lambda': 5.5792524355702104}. Best is trial 25 with value: 0.7413091821964571.\u001b[0m\n",
            "\u001b[32m[I 2023-05-25 19:02:16,316]\u001b[0m Trial 36 finished with value: 0.7256830145146254 and parameters: {'n_estimators': 434, 'max_depth': 13, 'learning_rate': 0.7057255107082108, 'subsample': 0.760462310737591, 'colsample_bytree': 0.9495647171070045, 'reg_alpha': 4.667680330334653, 'reg_lambda': 5.227799583166093}. Best is trial 25 with value: 0.7413091821964571.\u001b[0m\n",
            "\u001b[32m[I 2023-05-25 19:02:17,253]\u001b[0m Trial 37 finished with value: 0.7267553772315193 and parameters: {'n_estimators': 324, 'max_depth': 18, 'learning_rate': 0.8483284144405204, 'subsample': 0.6729509550551143, 'colsample_bytree': 0.8856862447899659, 'reg_alpha': 5.337173218477611, 'reg_lambda': 6.290309323687878}. Best is trial 25 with value: 0.7413091821964571.\u001b[0m\n",
            "\u001b[32m[I 2023-05-25 19:02:18,313]\u001b[0m Trial 38 finished with value: 0.7326885613434281 and parameters: {'n_estimators': 365, 'max_depth': 16, 'learning_rate': 0.9427834720670064, 'subsample': 0.5813004940884957, 'colsample_bytree': 0.95398121947094, 'reg_alpha': 3.5639827968112296, 'reg_lambda': 5.701855608675284}. Best is trial 25 with value: 0.7413091821964571.\u001b[0m\n",
            "\u001b[32m[I 2023-05-25 19:02:19,671]\u001b[0m Trial 39 finished with value: 0.7307995922409696 and parameters: {'n_estimators': 470, 'max_depth': 9, 'learning_rate': 0.8048629848881895, 'subsample': 0.523601872089266, 'colsample_bytree': 0.8543081766031311, 'reg_alpha': 1.4807971330438638, 'reg_lambda': 5.000781216169821}. Best is trial 25 with value: 0.7413091821964571.\u001b[0m\n",
            "\u001b[32m[I 2023-05-25 19:02:20,835]\u001b[0m Trial 40 finished with value: 0.7318784849067488 and parameters: {'n_estimators': 379, 'max_depth': 19, 'learning_rate': 0.8663563200666139, 'subsample': 0.8318358169621285, 'colsample_bytree': 0.7753156327146943, 'reg_alpha': 2.167734285795818, 'reg_lambda': 6.755515540025369}. Best is trial 25 with value: 0.7413091821964571.\u001b[0m\n",
            "\u001b[32m[I 2023-05-25 19:02:22,593]\u001b[0m Trial 41 finished with value: 0.7361900650455464 and parameters: {'n_estimators': 454, 'max_depth': 20, 'learning_rate': 0.9873421413231027, 'subsample': 0.7302666700266325, 'colsample_bytree': 0.998376604048595, 'reg_alpha': 2.476385273619087, 'reg_lambda': 6.178335373928752}. Best is trial 25 with value: 0.7413091821964571.\u001b[0m\n",
            "\u001b[32m[I 2023-05-25 19:02:24,118]\u001b[0m Trial 42 finished with value: 0.733495372805665 and parameters: {'n_estimators': 436, 'max_depth': 20, 'learning_rate': 0.9431047670218037, 'subsample': 0.6840948347818038, 'colsample_bytree': 0.9515250294800258, 'reg_alpha': 2.9544817365584457, 'reg_lambda': 7.629106948844914}. Best is trial 25 with value: 0.7413091821964571.\u001b[0m\n",
            "\u001b[32m[I 2023-05-25 19:02:25,185]\u001b[0m Trial 43 finished with value: 0.7291848809916815 and parameters: {'n_estimators': 405, 'max_depth': 18, 'learning_rate': 0.9895217161735693, 'subsample': 0.7588499685309833, 'colsample_bytree': 0.9158636335857073, 'reg_alpha': 3.251011179260677, 'reg_lambda': 6.642981138936931}. Best is trial 25 with value: 0.7413091821964571.\u001b[0m\n",
            "\u001b[32m[I 2023-05-25 19:02:27,177]\u001b[0m Trial 44 finished with value: 0.7124765556696281 and parameters: {'n_estimators': 433, 'max_depth': 14, 'learning_rate': 0.8462622527393381, 'subsample': 0.6197536798268641, 'colsample_bytree': 0.9719986269523171, 'reg_alpha': 0.8367554853278807, 'reg_lambda': 5.455579469473803}. Best is trial 25 with value: 0.7413091821964571.\u001b[0m\n",
            "\u001b[32m[I 2023-05-25 19:02:28,385]\u001b[0m Trial 45 finished with value: 0.7324146662651957 and parameters: {'n_estimators': 472, 'max_depth': 19, 'learning_rate': 0.9535195359629104, 'subsample': 0.7208559523581781, 'colsample_bytree': 0.8988613176310326, 'reg_alpha': 2.2178064308266854, 'reg_lambda': 6.2971221452220885}. Best is trial 25 with value: 0.7413091821964571.\u001b[0m\n",
            "\u001b[32m[I 2023-05-25 19:02:29,610]\u001b[0m Trial 46 finished with value: 0.7310687712450074 and parameters: {'n_estimators': 348, 'max_depth': 18, 'learning_rate': 0.8003847966020463, 'subsample': 0.6597392557322936, 'colsample_bytree': 0.961221942384809, 'reg_alpha': 1.6363943969829005, 'reg_lambda': 6.891390800513931}. Best is trial 25 with value: 0.7413091821964571.\u001b[0m\n",
            "\u001b[32m[I 2023-05-25 19:02:32,331]\u001b[0m Trial 47 finished with value: 0.7124729279202475 and parameters: {'n_estimators': 499, 'max_depth': 17, 'learning_rate': 0.8888256140182488, 'subsample': 0.7990527898994119, 'colsample_bytree': 0.9979570528054287, 'reg_alpha': 0.6077739440264973, 'reg_lambda': 7.6118074259376876}. Best is trial 25 with value: 0.7413091821964571.\u001b[0m\n",
            "\u001b[32m[I 2023-05-25 19:02:33,963]\u001b[0m Trial 48 finished with value: 0.7329591914472181 and parameters: {'n_estimators': 450, 'max_depth': 12, 'learning_rate': 0.6619387938863042, 'subsample': 0.5898617719823618, 'colsample_bytree': 0.8182128878797084, 'reg_alpha': 1.5019907035054425, 'reg_lambda': 5.71422564814065}. Best is trial 25 with value: 0.7413091821964571.\u001b[0m\n",
            "\u001b[32m[I 2023-05-25 19:02:36,585]\u001b[0m Trial 49 finished with value: 0.7084356056346204 and parameters: {'n_estimators': 212, 'max_depth': 20, 'learning_rate': 0.9239158290826848, 'subsample': 0.6175411137204843, 'colsample_bytree': 0.890691472002717, 'reg_alpha': 0.5304031897588561, 'reg_lambda': 5.996594200078495}. Best is trial 25 with value: 0.7413091821964571.\u001b[0m\n"
          ]
        },
        {
          "output_type": "stream",
          "name": "stdout",
          "text": [
            "\n",
            "\n",
            "Best score:  0.7413091821964571\n",
            "Best parameters: {'n_estimators': 421, 'max_depth': 16, 'learning_rate': 0.9103669836149376, 'subsample': 0.6919498571754856, 'colsample_bytree': 0.8737560492190305, 'reg_alpha': 1.9589492800297248, 'reg_lambda': 6.012285238177178}\n"
          ]
        }
      ],
      "source": [
        "# Set the random seed\n",
        "sampler = TPESampler(seed=10)\n",
        "\n",
        "# Define the objective function to minimize\n",
        "def objective(trial):\n",
        "    # Sample hyperparameters from the search space\n",
        "    params = {\n",
        "        'n_estimators': trial.suggest_int('n_estimators', 75, 500),\n",
        "        'max_depth': trial.suggest_int('max_depth', 1, 20),\n",
        "        'learning_rate': trial.suggest_float('learning_rate', 0.01, 1),\n",
        "        'subsample': trial.suggest_float('subsample', 0.1, 1.0),\n",
        "        'colsample_bytree': trial.suggest_float('colsample_bytree', 0.1, 1.0),\n",
        "        'reg_alpha': trial.suggest_float('reg_alpha', 0, 10),\n",
        "        'reg_lambda': trial.suggest_float('reg_lambda', 0, 10),\n",
        "    }\n",
        "    \n",
        "    # Define the model to use\n",
        "    model = LGBMClassifier(class_weight={0:0.4,1:0.6}, **params, random_state=rs, n_jobs=1)\n",
        "    lgbm_model=imblearn_make_pipeline(preprocessor,rus,model)\n",
        "    # Evaluate the model using cross-validation\n",
        "    score = cross_validate(lgbm_model, X_train, y_train, cv=5, scoring=second_class_recall_function)\n",
        "    \n",
        "    # Return the negative score (since Optuna tries to minimize the objective function)\n",
        "    return score['test_2nd_class_recall_score'].mean()\n",
        "\n",
        "# Run the optimization\n",
        "lgbm_study = optuna.create_study(direction='maximize', sampler=sampler)\n",
        "lgbm_study.optimize(objective, n_trials=50)\n",
        "\n",
        "# Print best score and parameters\n",
        "print('\\n')\n",
        "best_score = lgbm_study.best_value\n",
        "best_params = lgbm_study.best_params\n",
        "print(\"Best score: \", best_score)\n",
        "print('Best parameters:', best_params)"
      ]
    },
    {
      "cell_type": "code",
      "source": [],
      "metadata": {
        "id": "oqwpmSb5bdDK"
      },
      "execution_count": 5,
      "outputs": []
    }
  ],
  "metadata": {
    "colab": {
      "provenance": []
    },
    "kernelspec": {
      "display_name": "Python 3",
      "name": "python3"
    },
    "language_info": {
      "name": "python"
    }
  },
  "nbformat": 4,
  "nbformat_minor": 0
}